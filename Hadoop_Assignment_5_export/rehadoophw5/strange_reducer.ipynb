{
 "cells": [
  {
   "cell_type": "code",
   "execution_count": 1,
   "metadata": {
    "collapsed": false
   },
   "outputs": [
    {
     "data": {
      "text/plain": [
       "<generator object read_key_value at 0x7f2eb2f9de10>"
      ]
     },
     "execution_count": 1,
     "metadata": {},
     "output_type": "execute_result"
    }
   ],
   "source": [
    "# silly function that just reads lines from a file and keeps outputting them\n",
    "# There's also a large chunk of code after the yield. Let's see if it'll ever be reached.\n",
    "def read_key_value(file2):\n",
    "    for line3 in file2:\n",
    "        yield line3\n",
    "        \n",
    "    # code after yield    \n",
    "    print 'When will this get printed?'\n",
    "    print 'it looks like you are trying to iterate in file2 AGAIN in this area'\n",
    "    print 'with for \"vin2, session_count, click_event_count, event_bool_count,count_v in file2:\"'\n",
    "    \n",
    "\n",
    "    \n",
    "#we'll pretend this list of strings is a file (the contents of outputtest.txt)\n",
    "fl=['first line', 'second line', 'third line']\n",
    "read_key_value(fl)"
   ]
  }
 ],
 "metadata": {
  "kernelspec": {
   "display_name": "Python [Root]",
   "language": "python",
   "name": "Python [Root]"
  },
  "language_info": {
   "codemirror_mode": {
    "name": "ipython",
    "version": 2
   },
   "file_extension": ".py",
   "mimetype": "text/x-python",
   "name": "python",
   "nbconvert_exporter": "python",
   "pygments_lexer": "ipython2",
   "version": "2.7.12"
  }
 },
 "nbformat": 4,
 "nbformat_minor": 1
}
