{
 "cells": [
  {
   "cell_type": "code",
   "execution_count": null,
   "metadata": {
    "collapsed": true
   },
   "outputs": [],
   "source": [
    "#!/usr/bin/python\n",
    "\n",
    "# Example to compute distinct values in one or more fields # Here we examine event log entries\n",
    "import sys\n",
    "field_name_list = ['user_id', 'event', 'timestamp', 'vin', 'condition', 'year', 'make', 'model', 'price', 'mileage' ]\n",
    "\n",
    "\n",
    "def read_input(file):     \n",
    "    for line in file: \n",
    "        # split the line into individual fields \n",
    "        #(fields are delimited by tab).         \n",
    "        yield line.strip().split('\\t')\n",
    "        \n",
    "def main():     \n",
    "    # input comes from STDIN (standard input)     \n",
    "    # data is the generator that produces individual inputs     \n",
    "    data = read_input(sys.stdin)\n",
    "    \n",
    "    for log_entry in data:         \n",
    "        print  (field_name_list[1], log_entry[1], 1 )\n",
    "        print  (field_name_list[5], log_entry[5], 1 )\n",
    "        \n",
    "        \n",
    "        \n",
    "if __name__ == \"__main__\":     main()"
   ]
  },
  {
   "cell_type": "code",
   "execution_count": null,
   "metadata": {
    "collapsed": true
   },
   "outputs": [],
   "source": []
  },
  {
   "cell_type": "code",
   "execution_count": null,
   "metadata": {
    "collapsed": true
   },
   "outputs": [],
   "source": []
  }
 ],
 "metadata": {
  "kernelspec": {
   "display_name": "Python [Root]",
   "language": "python",
   "name": "Python [Root]"
  },
  "language_info": {
   "codemirror_mode": {
    "name": "ipython",
    "version": 2
   },
   "file_extension": ".py",
   "mimetype": "text/x-python",
   "name": "python",
   "nbconvert_exporter": "python",
   "pygments_lexer": "ipython2",
   "version": "2.7.12"
  }
 },
 "nbformat": 4,
 "nbformat_minor": 0
}
