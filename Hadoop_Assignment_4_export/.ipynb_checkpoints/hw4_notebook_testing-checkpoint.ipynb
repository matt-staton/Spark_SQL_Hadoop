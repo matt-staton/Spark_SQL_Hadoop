{
 "cells": [
  {
   "cell_type": "code",
   "execution_count": 35,
   "metadata": {
    "collapsed": false
   },
   "outputs": [
    {
     "name": "stdout",
     "output_type": "stream",
     "text": [
      "553320448\t{'mileage': '33143', 'user_id': '553320448', 'timestamp': '2016-09-20 00:18:51.000000', 'make': 'Nissan', 'vin': '1N6AD0ERXCC460850', 'event_target': 'alternatives', 'year': '2012', 'event_action': 'display', 'model': 'Frontier', 'price': '0.0000', 'condition': 'Used'}\n",
      "553320372\t{'mileage': '33143', 'user_id': '553320372', 'timestamp': '2016-09-20 08:41:56.000000', 'make': 'Nissan', 'vin': '1N6AD0ERXCC460850', 'event_target': 'alternatives', 'year': '2012', 'event_action': 'display', 'model': 'Frontier', 'price': '0.0000', 'condition': 'Used'}\n",
      "553320372\t{'mileage': '33143', 'user_id': '553320372', 'timestamp': '2016-09-20 08:41:57.000000', 'make': 'Nissan', 'vin': '1N6AD0ERXCC460850', 'event_target': 'market report', 'year': '2012', 'event_action': 'visit', 'model': 'Frontier', 'price': '0.0000', 'condition': 'Used'}\n"
     ]
    }
   ],
   "source": [
    "#!/usr/bin/python\n",
    "\n",
    "# Mapper for session generation.\n",
    "# Here we examine event log entries\n",
    "\n",
    "import sys\n",
    "import re\n",
    "\n",
    "INPUT = sys.stdin\n",
    "\n",
    "field_name_list = ['user_id', 'event_action', 'event_target', 'timestamp', 'vin', 'condition', 'year', 'make', 'model', 'price', 'mileage' ]\n",
    "\n",
    "def read_input(file):\n",
    "    for line in file:\n",
    "        # split the line into individual fields (fields are delimited by tab).\n",
    "        temp = line.strip().split('\\t')\n",
    "        event_action, event_target = temp[1].split(' ',1)  #Split event into action and target on space\n",
    "        temp[1] = event_action\n",
    "        temp.insert(2, event_target)\n",
    "        yield temp\n",
    "        \n",
    "def digest_log_entry(field_value_list):\n",
    "    field_value_dict = {}\n",
    "    for i in range(len(field_name_list)):\n",
    "        field_value_dict[field_name_list[i]] = field_value_list[i]\n",
    "    return field_value_dict\n",
    "\n",
    "def main():\n",
    "    # input comes from STDIN (standard input)\n",
    "    # data is the generator that produces individual inputs\n",
    "    data = read_input(open(\"dataSet4Tiny.tsv\"))\n",
    "\n",
    "    # For each log entry, digest all the fields,\n",
    "    # output the user_id as the key,\n",
    "    # output the digested log entry (a dictionary) as the value\n",
    "  \n",
    "    for log_entry in data:      #So here data is an entire list of lines\n",
    "        digested_log_entry = digest_log_entry(log_entry)  #\n",
    "        print '%s\\t%s'% ( digested_log_entry['user_id'], digested_log_entry)  #\n",
    "    \n",
    "\n",
    "\n",
    "\n",
    "if __name__ == \"__main__\":\n",
    "    main()\n"
   ]
  },
  {
   "cell_type": "code",
   "execution_count": 39,
   "metadata": {
    "collapsed": false
   },
   "outputs": [
    {
     "name": "stdout",
     "output_type": "stream",
     "text": [
      "{'mileage': '33143', 'timestamp': '2016-09-20 00:18:51.000000', 'price': '0.0000', 'vin': '1N6AD0ERXCC460850', 'year': '2012', 'condition': 'Used', 'user_id': '553320448', 'make': 'Nissan', 'event_target': 'alternatives', 'event_action': 'display', 'model': 'Frontier'}\n",
      "{'mileage': '33143', 'timestamp': '2016-09-20 08:41:56.000000', 'price': '0.0000', 'vin': '1N6AD0ERXCC460850', 'year': '2012', 'condition': 'Used', 'user_id': '553320372', 'make': 'Nissan', 'event_target': 'alternatives', 'event_action': 'display', 'model': 'Frontier'}\n",
      "{'mileage': '33143', 'timestamp': '2016-09-20 08:41:57.000000', 'price': '0.0000', 'vin': '1N6AD0ERXCC460850', 'year': '2012', 'condition': 'Used', 'user_id': '553320372', 'make': 'Nissan', 'event_target': 'market report', 'event_action': 'visit', 'model': 'Frontier'}\n"
     ]
    }
   ],
   "source": [
    "#!/usr/bin/python\n",
    "\n",
    "# Reducer for session generation.\n",
    "# Here we assemble user sessions\n",
    "\n",
    "import sys\n",
    "\n",
    "def read_key_value(file):\n",
    "    for line in file:\n",
    "        # split the line into components, before and after the tab\n",
    "        yield line.strip().split('\\t', 1)\n",
    "\n",
    "def session_classify(session):\n",
    "    for i in session:\n",
    "        if i['event_target'] == \"contact form\":\n",
    "            return 'submitter'\n",
    "        elif i['event_action'] == 'click':\n",
    "            return 'clicker'\n",
    "        elif i['event_action'] == 'show' or i['event_action'] == 'display':\n",
    "            return 'shower'\n",
    "        elif i['event_action'] == 'visit':\n",
    "            return 'visitor'\n",
    "        else:\n",
    "            return 'other'\n",
    "    \n",
    "def get_cars_viewed(event_list):\n",
    "    seen_vehicles = []\n",
    "    vehicle_dictionary = {}\n",
    "    for i in event_list:\n",
    "        if not (i['vin'] in seen_vehicles):\n",
    "            seen_vehicles.append(i['vin'])\n",
    "            vehicle_dictionary[i['vin']] = {'condition':i['condition'], 'year':i['year'], 'make':i['make'], 'model':i['model'], 'price':i['price'], 'mileage':i['mileage']}\n",
    "    return vehicle_dictionary\n",
    "\n",
    "def main():\n",
    "    current_user_id = None\n",
    "    event_list = []\n",
    "\n",
    "    for user_id, event_string in read_key_value(open(\"map_output.txt\")):\n",
    "        # eval() converts a data structure described on a string\n",
    "        # into that internal data structure (for example, a dictionary).\n",
    "        event = eval(event_string)\n",
    "        print event\n",
    "        \n",
    "        # Assemble\n",
    "        if user_id == current_user_id:\n",
    "            event_list.append(event)\n",
    "            continue\n",
    "        else:\n",
    "            #doesn't do anything the first time thru and goes straight to setting the current userid\n",
    "            if current_user_id:\n",
    "                classification = session_classify(event_list)\n",
    "                cars_viewed = get_cars_viewed(event_list)\n",
    "                for i in event_list:\n",
    "                    i.pop('condition')\n",
    "                    i.pop('year')\n",
    "                    i.pop('make')\n",
    "                    i.pop('model')\n",
    "                    i.pop('price')\n",
    "                    i.pop('mileage')\n",
    "                    i.pop('user_id')\n",
    "                print '{}:{}\\t{}\\t{}'.format(current_user_id, classification, event_list, cars_viewed)\n",
    "            current_user_id = user_id\n",
    "            event_list = [event]\n",
    "    \n",
    "    #This if statement only exists because when switching users the loop prior will\n",
    "    #just set the user and exit on the last entry\n",
    "    if user_id == current_user_id:\n",
    "        classification = session_classify(event_list)\n",
    "        cars_viewed = get_cars_viewed(event_list)\n",
    "        for i in event_list:\n",
    "            i.pop('condition')\n",
    "            i.pop('year')\n",
    "            i.pop('make')\n",
    "            i.pop('model')\n",
    "            i.pop('price')\n",
    "            i.pop('mileage')\n",
    "            i.pop('user_id')\n",
    "        print '{}:{}\\t{}\\t{}'.format(current_user_id, classification, event_list, cars_viewed)\n",
    "\n",
    "if __name__ == \"__main__\":\n",
    "    main()"
   ]
  },
  {
   "cell_type": "code",
   "execution_count": 29,
   "metadata": {
    "collapsed": false
   },
   "outputs": [],
   "source": []
  },
  {
   "cell_type": "code",
   "execution_count": 30,
   "metadata": {
    "collapsed": false
   },
   "outputs": [
    {
     "data": {
      "text/plain": [
       "'badge detail'"
      ]
     },
     "execution_count": 30,
     "metadata": {},
     "output_type": "execute_result"
    }
   ],
   "source": []
  }
 ],
 "metadata": {
  "anaconda-cloud": {},
  "kernelspec": {
   "display_name": "Python [Root]",
   "language": "python",
   "name": "Python [Root]"
  },
  "language_info": {
   "codemirror_mode": {
    "name": "ipython",
    "version": 2
   },
   "file_extension": ".py",
   "mimetype": "text/x-python",
   "name": "python",
   "nbconvert_exporter": "python",
   "pygments_lexer": "ipython2",
   "version": "2.7.12"
  }
 },
 "nbformat": 4,
 "nbformat_minor": 0
}
