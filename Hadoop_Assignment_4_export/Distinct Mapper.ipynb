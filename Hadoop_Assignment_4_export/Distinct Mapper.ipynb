{
 "cells": [
  {
   "cell_type": "code",
   "execution_count": null,
   "metadata": {
    "collapsed": true
   },
   "outputs": [],
   "source": [
    "#!/usr/bin/python\n",
    "\n",
    "# Example to compute distinct values in one or more fields # Here we examine event log entries\n",
    "import sys\n",
    "field_name_list = ['user_id', 'event', 'timestamp', 'vin', 'condition', 'year', 'make', 'model', 'price', 'mileage' ]\n",
    "\n",
    "\n",
    "def read_input(file):     \n",
    "    for line in file: \n",
    "        # split the line into individual fields \n",
    "        #(fields are delimited by tab).         \n",
    "        yield line.strip().split('\\t')\n",
    "        \n",
    "def main():     \n",
    "    # input comes from STDIN (standard input)     \n",
    "    # data is the generator that produces individual inputs     \n",
    "    data = read_input(sys.stdin)\n",
    "    \n",
    "    for log_entry in data:         \n",
    "        print  (field_name_list[1], log_entry[1], 1 )\n",
    "        print  (field_name_list[5], log_entry[5], 1 )\n",
    "        \n",
    "        \n",
    "        \n",
    "if __name__ == \"__main__\":     main()"
   ]
  },
  {
   "cell_type": "code",
   "execution_count": null,
   "metadata": {
    "collapsed": true
   },
   "outputs": [],
   "source": []
  },
  {
   "cell_type": "code",
   "execution_count": 1,
   "metadata": {
    "collapsed": true
   },
   "outputs": [],
   "source": [
    "import sys\n",
    "\n",
    "field_name_list = ['user_id', 'event', 'timestamp', 'vin', 'condition', 'year', 'make', 'model', 'price', 'mileage' ]\n",
    "\n",
    "def read_input(file):\n",
    "    for line in file:\n",
    "        # split the line into individual fields (fields are delimited by tab).\n",
    "        yield line.strip().split('\\t')\n",
    "\n",
    "def digest_log_entry(field_value_list):\n",
    "    field_value_dict = {}\n",
    "    for i in range(len(field_name_list)):\n",
    "        field_value_dict[field_name_list[i]] = field_value_list[i]\n",
    "    return field_value_dict"
   ]
  },
  {
   "cell_type": "code",
   "execution_count": 2,
   "metadata": {
    "collapsed": false
   },
   "outputs": [
    {
     "data": {
      "text/plain": [
       "{'condition': 'condition',\n",
       " 'event': 'event',\n",
       " 'make': 'make',\n",
       " 'mileage': 'mileage',\n",
       " 'model': 'model',\n",
       " 'price': 'price',\n",
       " 'timestamp': 'timestamp',\n",
       " 'user_id': 'user_id',\n",
       " 'vin': 'vin',\n",
       " 'year': 'year'}"
      ]
     },
     "execution_count": 2,
     "metadata": {},
     "output_type": "execute_result"
    }
   ],
   "source": [
    "digest_log_entry(field_name_list)"
   ]
  },
  {
   "cell_type": "code",
   "execution_count": null,
   "metadata": {
    "collapsed": true
   },
   "outputs": [],
   "source": []
  }
 ],
 "metadata": {
  "kernelspec": {
   "display_name": "Python [Root]",
   "language": "python",
   "name": "Python [Root]"
  },
  "language_info": {
   "codemirror_mode": {
    "name": "ipython",
    "version": 2
   },
   "file_extension": ".py",
   "mimetype": "text/x-python",
   "name": "python",
   "nbconvert_exporter": "python",
   "pygments_lexer": "ipython2",
   "version": "2.7.12"
  }
 },
 "nbformat": 4,
 "nbformat_minor": 0
}
