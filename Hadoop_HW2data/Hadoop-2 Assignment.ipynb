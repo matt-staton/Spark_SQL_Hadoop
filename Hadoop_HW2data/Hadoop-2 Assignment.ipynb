{
 "cells": [
  {
   "cell_type": "markdown",
   "metadata": {},
   "source": [
    "Let's develop some functions we can reuse to read mapper input and reducer input.\n",
    "\n",
    "First - read mapper input file that we'll split on whitespace.\n",
    "This function creates a returns a \"generator\""
   ]
  },
  {
   "cell_type": "code",
   "execution_count": 4,
   "metadata": {
    "collapsed": true
   },
   "outputs": [],
   "source": [
    "def read_input(file):\n",
    "    for line in file:\n",
    "        # split the line into words\n",
    "        yield line.split()"
   ]
  },
  {
   "cell_type": "markdown",
   "metadata": {},
   "source": [
    "Testing the read_input function:\n",
    "- Open a file, Call read_input to get a generator, Print results"
   ]
  },
  {
   "cell_type": "code",
   "execution_count": 19,
   "metadata": {
    "collapsed": true
   },
   "outputs": [],
   "source": [
    "f1 = open(\"mapperInput.txt\", 'r')\n",
    "gen1 = read_input(f1)"
   ]
  },
  {
   "cell_type": "code",
   "execution_count": 10,
   "metadata": {
    "collapsed": false
   },
   "outputs": [
    {
     "name": "stdout",
     "output_type": "stream",
     "text": [
      "['the', 'quick', 'brown', 'fox', 'jumped', 'over', 'the', 'lazy', 'dog', 'sir']\n",
      "['quick', 'brown', 'brown', 'over', 'over', 'over', 'sir', 'sir', 'sir', 'sir']\n"
     ]
    }
   ],
   "source": [
    "for words in gen1:\n",
    "    # Print the results returned by the generator\n",
    "    print(words)"
   ]
  },
  {
   "cell_type": "code",
   "execution_count": 18,
   "metadata": {
    "collapsed": true
   },
   "outputs": [],
   "source": [
    "f1.close()"
   ]
  },
  {
   "cell_type": "markdown",
   "metadata": {},
   "source": [
    "What do we need to calculate word statistics?\n",
    "For each word, count the number of times the word appears in each message.\n",
    "Let's write a function for this."
   ]
  },
  {
   "cell_type": "code",
   "execution_count": 22,
   "metadata": {
    "collapsed": true
   },
   "outputs": [],
   "source": [
    "def count_words(words):\n",
    "    # Initialize the dictionary\n",
    "    word2count = {}\n",
    "    \n",
    "    # For each word in the message, count \n",
    "    for word in words:\n",
    "        # word2count[\"msg length\"] = word2count[\"msg length\"] + 1\n",
    "        \n",
    "        try:\n",
    "            word2count[word] = word2count[word] + 1\n",
    "            \n",
    "        except:\n",
    "            word2count[word] = 1\n",
    "    word2count[\"msg length\"] = len(words)\n",
    "    # Return the dictionary we've built for the current message\n",
    "    return word2count"
   ]
  },
  {
   "cell_type": "markdown",
   "metadata": {},
   "source": [
    "Test the count_words function."
   ]
  },
  {
   "cell_type": "code",
   "execution_count": 11,
   "metadata": {
    "collapsed": false
   },
   "outputs": [
    {
     "data": {
      "text/plain": [
       "['one', 'two', 'three', 'three', 'three', 'two']"
      ]
     },
     "execution_count": 11,
     "metadata": {},
     "output_type": "execute_result"
    }
   ],
   "source": [
    "\"one two three three three two\".split()"
   ]
  },
  {
   "cell_type": "code",
   "execution_count": 14,
   "metadata": {
    "collapsed": false
   },
   "outputs": [
    {
     "data": {
      "text/plain": [
       "{'one': 1, 'three': 3, 'two': 2}"
      ]
     },
     "execution_count": 14,
     "metadata": {},
     "output_type": "execute_result"
    }
   ],
   "source": [
    "count_words(\"one two three three three two\".split())"
   ]
  },
  {
   "cell_type": "markdown",
   "metadata": {},
   "source": [
    "Test the count_words function using our function that reads mapper input."
   ]
  },
  {
   "cell_type": "code",
   "execution_count": 23,
   "metadata": {
    "collapsed": false
   },
   "outputs": [
    {
     "name": "stdout",
     "output_type": "stream",
     "text": [
      "-->  {'sir': 4, 'over': 3, 'brown': 2, 'quick': 1, 'msg length': 10}\n"
     ]
    }
   ],
   "source": [
    "for words in gen1:\n",
    "    print(\"--> \", count_words(words))"
   ]
  },
  {
   "cell_type": "markdown",
   "metadata": {},
   "source": [
    "Now a function that reads key/value reducer input.\n",
    "\n",
    "In reduce input, the key is separated from the value with a tab."
   ]
  },
  {
   "cell_type": "code",
   "execution_count": null,
   "metadata": {
    "collapsed": true
   },
   "outputs": [],
   "source": [
    "def read_key_value(file):\n",
    "    for line in file:\n",
    "        # split the line into components, before and after the tab\n",
    "        yield line.split('\\t', 1)"
   ]
  },
  {
   "cell_type": "markdown",
   "metadata": {},
   "source": [
    "Test the read_key_value function."
   ]
  },
  {
   "cell_type": "code",
   "execution_count": null,
   "metadata": {
    "collapsed": true
   },
   "outputs": [],
   "source": [
    "f2 = open(\"mapperOutput.txt\", 'r')\n",
    "gen2 = read_key_value(f2)"
   ]
  },
  {
   "cell_type": "code",
   "execution_count": null,
   "metadata": {
    "collapsed": true
   },
   "outputs": [],
   "source": [
    "for word, counts in gen2:\n",
    "    print(word, \" --> \", counts)"
   ]
  },
  {
   "cell_type": "code",
   "execution_count": null,
   "metadata": {
    "collapsed": true
   },
   "outputs": [],
   "source": [
    "f2.close()"
   ]
  }
 ],
 "metadata": {
  "kernelspec": {
   "display_name": "Python [Root]",
   "language": "python",
   "name": "Python [Root]"
  },
  "language_info": {
   "codemirror_mode": {
    "name": "ipython",
    "version": 2
   },
   "file_extension": ".py",
   "mimetype": "text/x-python",
   "name": "python",
   "nbconvert_exporter": "python",
   "pygments_lexer": "ipython2",
   "version": "2.7.12"
  }
 },
 "nbformat": 4,
 "nbformat_minor": 0
}
