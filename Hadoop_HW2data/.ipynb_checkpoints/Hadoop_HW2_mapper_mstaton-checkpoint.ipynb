{
 "cells": [
  {
   "cell_type": "code",
   "execution_count": 2,
   "metadata": {
    "collapsed": true
   },
   "outputs": [],
   "source": [
    "import sys"
   ]
  },
  {
   "cell_type": "code",
   "execution_count": 3,
   "metadata": {
    "collapsed": false
   },
   "outputs": [],
   "source": [
    "def read_input(file):\n",
    "    for line in file:\n",
    "        yield line.split()"
   ]
  },
  {
   "cell_type": "code",
   "execution_count": 4,
   "metadata": {
    "collapsed": false
   },
   "outputs": [],
   "source": [
    "f1 = open('dataSet2Small.txt', 'r')\n",
    "gen1 = read_input(f1)"
   ]
  },
  {
   "cell_type": "code",
   "execution_count": 5,
   "metadata": {
    "collapsed": false
   },
   "outputs": [
    {
     "name": "stdout",
     "output_type": "stream",
     "text": [
      "['quick', 'sir', 'over', 'brown', 'fox', 'sir', 'jumped', 'over', 'fox', 'quick', 'dog', 'dog', 'quick', 'quick', 'jumped', 'sir', 'sir', 'the', 'The', 'over', 'quick', 'sir', 'brown', 'over', 'the', 'fox', 'The', 'fox', 'over', 'over', 'over', 'fox', 'brown', 'brown', 'quick', 'over', 'over', 'jumped', 'quick', 'sir', 'The', 'lazy', 'sir', 'jumped', 'dog', 'quick', 'jumped', 'quick', 'dog', 'the', 'dog', 'dog', 'brown', 'The', 'lazy', 'sir', 'The', 'sir', 'jumped']\n",
      "['quick', 'the', 'The', 'the', 'brown', 'jumped', 'dog', 'quick', 'sir', 'The', 'quick', 'brown', 'brown', 'The', 'The', 'The', 'quick', 'sir', 'jumped', 'lazy', 'The', 'sir', 'sir', 'dog', 'sir', 'quick', 'the', 'quick', 'dog', 'lazy', 'the', 'the', 'quick', 'lazy', 'over', 'dog', 'The', 'The', 'jumped', 'brown', 'lazy', 'jumped', 'The', 'sir', 'brown']\n",
      "['over', 'the', 'The', 'over', 'the', 'fox', 'jumped', 'dog', 'lazy', 'sir', 'sir', 'dog', 'brown', 'lazy', 'the', 'over', 'the', 'lazy', 'fox', 'dog', 'brown', 'brown', 'The', 'lazy', 'brown', 'dog', 'over', 'brown', 'jumped', 'brown', 'brown', 'dog', 'dog', 'lazy', 'lazy', 'quick', 'brown', 'dog', 'The', 'jumped', 'lazy', 'dog']\n",
      "['over', 'quick', 'over', 'the', 'lazy', 'sir', 'fox', 'lazy', 'quick', 'the', 'brown', 'brown', 'lazy', 'the', 'sir', 'jumped', 'the', 'fox', 'lazy', 'quick', 'the', 'jumped', 'lazy', 'quick', 'lazy', 'the', 'sir', 'quick', 'dog', 'the', 'sir', 'The', 'sir', 'the', 'lazy', 'sir', 'quick', 'lazy', 'jumped', 'quick', 'the', 'brown', 'dog']\n",
      "['jumped', 'fox', 'the', 'dog', 'over', 'jumped', 'the', 'quick', 'lazy', 'sir', 'sir', 'quick', 'the', 'over', 'jumped', 'the', 'the', 'over', 'The', 'lazy', 'the', 'dog', 'sir', 'over', 'quick', 'sir', 'fox', 'the', 'dog', 'sir', 'fox', 'over', 'brown', 'lazy', 'lazy', 'sir', 'dog', 'The', 'over', 'over', 'brown', 'fox', 'jumped', 'over', 'brown', 'jumped', 'sir', 'quick', 'jumped', 'lazy', 'dog', 'brown', 'fox', 'lazy', 'The', 'quick', 'dog', 'dog', 'dog', 'dog', 'fox']\n",
      "['sir', 'the', 'over', 'over', 'fox', 'sir', 'the', 'lazy', 'lazy', 'fox', 'The', 'over', 'the', 'jumped', 'fox', 'lazy', 'fox', 'quick', 'the', 'dog', 'sir', 'over', 'sir', 'brown', 'brown', 'brown', 'dog', 'fox', 'quick', 'the', 'quick', 'jumped', 'The', 'over', 'sir', 'brown', 'dog', 'The', 'dog', 'lazy', 'brown', 'fox', 'fox', 'The', 'sir', 'lazy', 'the', 'fox']\n",
      "['fox', 'the', 'The', 'lazy', 'over', 'dog', 'lazy', 'sir', 'lazy', 'brown', 'over', 'dog', 'jumped', 'lazy', 'the', 'sir', 'jumped', 'over', 'The', 'brown', 'The', 'sir', 'fox', 'sir', 'the', 'the', 'over', 'fox', 'fox', 'dog', 'fox', 'fox', 'quick', 'brown', 'brown', 'dog', 'fox', 'lazy', 'lazy', 'the', 'lazy', 'the', 'jumped']\n",
      "['The', 'jumped', 'dog', 'fox', 'dog', 'over', 'jumped', 'brown', 'brown', 'fox', 'dog', 'the', 'fox', 'jumped', 'fox', 'lazy', 'brown', 'brown', 'lazy', 'lazy', 'over', 'jumped', 'fox', 'quick', 'quick', 'jumped', 'quick', 'the', 'the', 'lazy', 'jumped', 'the', 'the', 'the', 'The', 'lazy', 'The', 'dog', 'jumped', 'sir', 'lazy', 'lazy', 'jumped', 'over', 'fox', 'jumped', 'jumped', 'over', 'brown', 'The', 'over', 'sir', 'The', 'the', 'lazy', 'lazy', 'dog', 'dog', 'fox', 'lazy', 'The', 'jumped']\n",
      "['dog', 'sir', 'brown', 'quick', 'brown', 'sir', 'fox', 'lazy', 'the', 'the', 'brown', 'quick', 'quick', 'jumped', 'fox', 'lazy', 'The', 'quick', 'quick', 'quick', 'the', 'dog', 'jumped', 'brown', 'lazy', 'lazy', 'sir', 'dog', 'sir', 'fox', 'over', 'over', 'The', 'The', 'The', 'over', 'quick', 'dog', 'The', 'quick', 'jumped', 'brown', 'The', 'jumped', 'dog', 'fox']\n",
      "['over', 'jumped', 'the', 'quick', 'lazy', 'fox', 'the', 'lazy', 'quick', 'The', 'brown', 'fox', 'fox', 'sir', 'brown', 'quick', 'sir', 'dog', 'the', 'sir', 'fox', 'The', 'sir', 'dog', 'sir', 'quick', 'over', 'sir', 'dog', 'The', 'sir', 'brown', 'the', 'the', 'quick', 'dog', 'jumped', 'The', 'over', 'dog', 'over', 'sir', 'jumped', 'lazy', 'The', 'lazy', 'The', 'over', 'fox', 'over', 'brown', 'quick', 'brown', 'The', 'dog', 'sir']\n"
     ]
    }
   ],
   "source": [
    "for words in gen1:\n",
    "    #print resulst returned by generator\n",
    "    print(words)"
   ]
  },
  {
   "cell_type": "code",
   "execution_count": 6,
   "metadata": {
    "collapsed": true
   },
   "outputs": [],
   "source": [
    "def count_words(words):\n",
    "    word2count = {}\n",
    "    for words in words:\n",
    "        try:\n",
    "            word2count[word] = word2count[word] + 1\n",
    "        except:\n",
    "            word2count[word] = 1\n",
    "\n",
    "    return word2count"
   ]
  },
  {
   "cell_type": "code",
   "execution_count": 11,
   "metadata": {
    "collapsed": false
   },
   "outputs": [],
   "source": [
    "for words in gen1:\n",
    "    print(\"--> \", count_words(words))"
   ]
  },
  {
   "cell_type": "code",
   "execution_count": 12,
   "metadata": {
    "collapsed": true
   },
   "outputs": [],
   "source": [
    "def read_key_value(file):\n",
    "    for line in file:\n",
    "        yield lin_split('\\+')"
   ]
  },
  {
   "cell_type": "code",
   "execution_count": null,
   "metadata": {
    "collapsed": true
   },
   "outputs": [],
   "source": []
  },
  {
   "cell_type": "code",
   "execution_count": null,
   "metadata": {
    "collapsed": true
   },
   "outputs": [],
   "source": []
  },
  {
   "cell_type": "code",
   "execution_count": null,
   "metadata": {
    "collapsed": true
   },
   "outputs": [],
   "source": []
  },
  {
   "cell_type": "code",
   "execution_count": null,
   "metadata": {
    "collapsed": true
   },
   "outputs": [],
   "source": []
  },
  {
   "cell_type": "code",
   "execution_count": null,
   "metadata": {
    "collapsed": true
   },
   "outputs": [],
   "source": []
  }
 ],
 "metadata": {
  "kernelspec": {
   "display_name": "Python [Root]",
   "language": "python",
   "name": "Python [Root]"
  },
  "language_info": {
   "codemirror_mode": {
    "name": "ipython",
    "version": 2
   },
   "file_extension": ".py",
   "mimetype": "text/x-python",
   "name": "python",
   "nbconvert_exporter": "python",
   "pygments_lexer": "ipython2",
   "version": "2.7.12"
  }
 },
 "nbformat": 4,
 "nbformat_minor": 0
}
